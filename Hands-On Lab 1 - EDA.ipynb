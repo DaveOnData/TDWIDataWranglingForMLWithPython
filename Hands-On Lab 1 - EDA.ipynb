{
 "cells": [
  {
   "cell_type": "markdown",
   "id": "992b95ea",
   "metadata": {},
   "source": [
    "# Hands-On Lab 1 - EDA"
   ]
  },
  {
   "cell_type": "markdown",
   "id": "fde04b6b",
   "metadata": {},
   "source": [
    "In this lab you will perform exploratory data analysis (EDA) on the *Titanic* dataset. The findings of this lab will be used in future labs in crafting features to train a Titanic machine learning model."
   ]
  },
  {
   "cell_type": "markdown",
   "id": "a15971f0",
   "metadata": {},
   "source": [
    "## Titanic Data Profiling"
   ]
  },
  {
   "cell_type": "markdown",
   "id": "7a32f0c7",
   "metadata": {},
   "source": [
    "### Step 1 - Load Data"
   ]
  },
  {
   "cell_type": "markdown",
   "id": "ba1d4ddd",
   "metadata": {},
   "source": [
    "The *titantic_train.csv* file is the training dataset. Run the following code cell to load the dataset."
   ]
  },
  {
   "cell_type": "code",
   "execution_count": null,
   "id": "fe96dbaa",
   "metadata": {},
   "outputs": [],
   "source": [
    "import pandas as pd\n",
    "\n",
    "# Load Titanic training data from CSV file\n",
    "titanic_train = pd.read_csv('titanic_train.csv')\n",
    "titanic_train.head()"
   ]
  },
  {
   "cell_type": "markdown",
   "id": "9a0cb811",
   "metadata": {},
   "source": [
    "### Step 2 - Profile the Data"
   ]
  },
  {
   "cell_type": "markdown",
   "id": "f7f46df6",
   "metadata": {},
   "source": [
    "Assessing the quality of a dataset is the first step in a machine learning project. The *ydata-profiling* library provides rich functionality for profiling *pandas DataFrames*. Type the following code into the blank code cell in your lab notebook and run it to produce the results."
   ]
  },
  {
   "cell_type": "code",
   "execution_count": null,
   "id": "92abad92",
   "metadata": {},
   "outputs": [],
   "source": [
    "# Enter your lab code here"
   ]
  },
  {
   "cell_type": "markdown",
   "id": "8301f3fb",
   "metadata": {},
   "source": [
    "## Titanic Data Visualization"
   ]
  },
  {
   "cell_type": "markdown",
   "id": "b3e4dbe8",
   "metadata": {},
   "source": [
    "### Step 19 - Visualize Pclass and Sex"
   ]
  },
  {
   "cell_type": "markdown",
   "id": "b34e1f5e",
   "metadata": {},
   "source": [
    "We know from the data profiling *Alerts* that the *Sex* feature is highly correlated with *Survived*. Evaluating the combination of *Sex* with other features in terms of *Survived* can provide valuable information for building a machine learning model. \n",
    "\n",
    "The *Pclass* feature and *Survived* label are categorical but encoded as numeric. The *plotnine* library supports casting numeric features to categorical using *factor()*. Type the following code into the blank code cell in your lab notebook and run it to produce the results."
   ]
  },
  {
   "cell_type": "code",
   "execution_count": null,
   "id": "30d631ce",
   "metadata": {},
   "outputs": [],
   "source": [
    "# Enter your lab code here"
   ]
  },
  {
   "cell_type": "markdown",
   "id": "83d55b42",
   "metadata": {},
   "source": [
    "### Step 20 - Visalize Sex, Pclass, and Embarked"
   ]
  },
  {
   "cell_type": "markdown",
   "id": "75e4e2a7",
   "metadata": {},
   "source": [
    "We know from the previous visualization that the combination of *Sex* and *Pclass* has a predictive relationship with *Survived*. Adding additional features (e.g., *Embarked*) to visualization may strengthen this predictive relationship. \n",
    "\n",
    "The *plotnine* library treats string data as categorical. Type the following code into the blank code cell in your lab notebook and run it to produce the results.\n",
    "\n",
    "**NOTE** - Be sure to reuse previous code by copying, pasting, and modifying."
   ]
  },
  {
   "cell_type": "code",
   "execution_count": null,
   "id": "15114b88",
   "metadata": {},
   "outputs": [],
   "source": [
    "# Enter your lab code here"
   ]
  },
  {
   "cell_type": "markdown",
   "id": "2928b331",
   "metadata": {},
   "source": [
    "### Step 21 - Visualize Sex, Pclass, SibSp, and Parch"
   ]
  },
  {
   "cell_type": "markdown",
   "id": "bdca72bb",
   "metadata": {},
   "source": [
    "Data profiling showed the *SibSp* and *Parch* features are of good quality for machine learning purposes. Using faceted scatter plots allows for evaluating the potential of *Sex*, *Pclass*, *SibSp*, and *Parch* combined to predict *Survived*. Type the following code into the blank code cell in your lab notebook and run it to produce the results."
   ]
  },
  {
   "cell_type": "code",
   "execution_count": null,
   "id": "f93e3121",
   "metadata": {},
   "outputs": [],
   "source": [
    "# Enter your lab code here"
   ]
  },
  {
   "cell_type": "markdown",
   "id": "7d757604",
   "metadata": {},
   "source": [
    "### Step 22 - Visualize Fare and Pclass"
   ]
  },
  {
   "cell_type": "markdown",
   "id": "fa373ee3",
   "metadata": {},
   "source": [
    "We might assume *Pclass* and *Fare* are highly correlated. For example, we know it is common for *1st class* tickets to cost more than *3rd class* tickets. However, it is always a good idea to validate assumptions with the data. Type the following code into the blank code cell in your lab notebook and run it to produce the results."
   ]
  },
  {
   "cell_type": "code",
   "execution_count": null,
   "id": "235b0194",
   "metadata": {},
   "outputs": [],
   "source": [
    "# Enter your lab code here"
   ]
  },
  {
   "cell_type": "markdown",
   "id": "00c0d9da",
   "metadata": {},
   "source": [
    "### Step 23 - Visualize Sex, Pclass, and Age"
   ]
  },
  {
   "cell_type": "markdown",
   "id": "1e0bf60b",
   "metadata": {},
   "source": [
    "The data profiling shows that the *Age* feature cannot be used as-is due to too many missing values. However, the missing values of *Age* would need to be imputed to make *Age* a viable feature to use. The *plotnine* library can create data visualizations with missing values. It will issue you a warning that it has removed missing values. Type the following code into the blank code cell in your lab notebook and run it to produce the results."
   ]
  },
  {
   "cell_type": "code",
   "execution_count": null,
   "id": "514e8a60",
   "metadata": {},
   "outputs": [],
   "source": [
    "# Enter your lab code here"
   ]
  }
 ],
 "metadata": {
  "kernelspec": {
   "display_name": "Python 3 (ipykernel)",
   "language": "python",
   "name": "python3"
  },
  "language_info": {
   "codemirror_mode": {
    "name": "ipython",
    "version": 3
   },
   "file_extension": ".py",
   "mimetype": "text/x-python",
   "name": "python",
   "nbconvert_exporter": "python",
   "pygments_lexer": "ipython3",
   "version": "3.10.9"
  }
 },
 "nbformat": 4,
 "nbformat_minor": 5
}
