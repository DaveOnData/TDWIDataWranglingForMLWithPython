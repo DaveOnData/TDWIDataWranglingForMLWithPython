{
 "cells": [
  {
   "cell_type": "markdown",
   "id": "7e16f938",
   "metadata": {},
   "source": [
    "# Hands-On Lab 3 - Wrangling Strings"
   ]
  },
  {
   "cell_type": "markdown",
   "id": "f92bda35",
   "metadata": {},
   "source": [
    "In this lab you will use the *pandas* library to wrangle the Titanic dataset. The findings of the previous lab will be used to guide the the wrangling performed."
   ]
  },
  {
   "cell_type": "markdown",
   "id": "ce10a635",
   "metadata": {},
   "source": [
    "### Step 1 - Load Data"
   ]
  },
  {
   "cell_type": "markdown",
   "id": "cb0cdb90",
   "metadata": {},
   "source": [
    "The *titantic_train.csv* file is the training dataset. Run the following code cell to load the dataset."
   ]
  },
  {
   "cell_type": "code",
   "execution_count": null,
   "id": "f1873b0e",
   "metadata": {},
   "outputs": [],
   "source": [
    "import pandas as pd\n",
    "\n",
    "# Load Titanic training data from CSV file\n",
    "titanic_train = pd.read_csv('titanic_train.csv')\n",
    "titanic_train.head()"
   ]
  },
  {
   "cell_type": "markdown",
   "id": "24d657df",
   "metadata": {},
   "source": [
    "### Step 2 - Exploring the *Name* Feature"
   ]
  },
  {
   "cell_type": "markdown",
   "id": "52105de5",
   "metadata": {},
   "source": [
    "Your Lab 1 EDA showed that the *Name* feature has potential as a machine learning feature. A deeper look at the *Name* data will confirm these initial findings. Type the following code into the blank code cell in your lab notebook and run it to produce the results."
   ]
  },
  {
   "cell_type": "code",
   "execution_count": null,
   "id": "74728fea",
   "metadata": {},
   "outputs": [],
   "source": [
    "# Enter your lab code here"
   ]
  },
  {
   "cell_type": "markdown",
   "id": "9d238cfd",
   "metadata": {},
   "source": [
    "### Step 3 - Engineering a Proxy Feature"
   ]
  },
  {
   "cell_type": "markdown",
   "id": "ba5021f9",
   "metadata": {},
   "source": [
    "The analysis of the *Name* feature data shows the titles of passengers are highly associated with both *Sex* and *Age* features. Since every passenger has a title, this information can be used as a **proxy feature** for both *Sex* and *Age*.\n",
    "\n",
    "Your Lab 1 data profiling showed that the *Age* feature has about 20% missing data values. While *Age* is a desirable feature for the machine learning model, it is just missing too much data to be used as-is.\n",
    "\n",
    "However, if you can extract the passenger titles, you can provide some information to the machine learning algorithm about passenger ages by proxy.\n",
    "\n",
    "**NOTE** - Be sure to copy and paste the following code for the lab's next step.\n",
    "\n",
    "```python\n",
    "# Create the train_wrangled DataFrame\n",
    "train_wrangled = (titanic_train\n",
    "                    .assign(Female = lambda df_: df_['Sex'].replace({'female': 1, 'male': 0}),\n",
    "                            Embarked = lambda df_: df_['Embarked'].fillna('S'),\n",
    "                            PartySize = lambda df_: df_['SibSp'] + df_['Parch'] + 1,\n",
    "                            PartyFare = lambda df_: df_['Fare'] / df_['PartySize'],\n",
    "                            TicketSize = lambda df_: df_.groupby('Ticket').transform('size'))\n",
    "                 )\n",
    "\n",
    "train_wrangled.head()\n",
    "```"
   ]
  },
  {
   "cell_type": "markdown",
   "id": "7efed8c1",
   "metadata": {},
   "source": [
    "### Step 4 - Splitting the Name Feature"
   ]
  },
  {
   "cell_type": "markdown",
   "id": "69f55e2e",
   "metadata": {},
   "source": [
    "The *Name* feature data follows a format where passenger surnames come first, followed by a comma, space, and title. The *split()* method can be used to iteratively split the *Name* feature to get at the passenger titles. Type the following code into the blank code cell in your lab notebook and run it to produce the results.\n",
    "\n",
    "**NOTE** - The next few steps of the lab will iteratively build up the code to arrive at the *Title* feature. Be sure to copy and paste code from one code cell to the next."
   ]
  },
  {
   "cell_type": "code",
   "execution_count": null,
   "id": "ee32f46a",
   "metadata": {},
   "outputs": [],
   "source": [
    "# Enter your lab code here"
   ]
  },
  {
   "cell_type": "markdown",
   "id": "b29b94b8",
   "metadata": {},
   "source": [
    "### Step 5 - Extracting the *Title* Feature"
   ]
  },
  {
   "cell_type": "markdown",
   "id": "1140782f",
   "metadata": {},
   "source": [
    "With the first split stored in the *CommaSplit* feature, another call to the *split()* method will create the new *Title* feature. Type the following code into the blank code cell in your lab notebook and run it to produce the results."
   ]
  },
  {
   "cell_type": "code",
   "execution_count": null,
   "id": "e4bc865f",
   "metadata": {},
   "outputs": [],
   "source": [
    "# Enter your lab code here"
   ]
  },
  {
   "cell_type": "markdown",
   "id": "b2941a76",
   "metadata": {},
   "source": [
    "### Step 6 - Dropping Features"
   ]
  },
  {
   "cell_type": "markdown",
   "id": "15fdf2f0",
   "metadata": {},
   "source": [
    "The wrangled data is looking great! Time to drop the unneeded features. Type the following code into the blank code cell in your lab notebook and run it to produce the results."
   ]
  },
  {
   "cell_type": "code",
   "execution_count": null,
   "id": "8e3b8d82",
   "metadata": {},
   "outputs": [],
   "source": [
    "# Enter your lab code here"
   ]
  },
  {
   "cell_type": "markdown",
   "id": "07fcd621",
   "metadata": {},
   "source": [
    "### Step 7 - Encoding Categorical Features"
   ]
  },
  {
   "cell_type": "markdown",
   "id": "cc16093b",
   "metadata": {},
   "source": [
    "The last step is to encode the categorical features (i.e., *Pclass*, *Embarked*, & *Title*). Type the following code into the blank code cell in your lab notebook and run it to produce the results.\n",
    "\n",
    "**NOTE** - The following cell contains all the code needed to perform all the data wrangling for the lab. A best practice would be to include a cell near the top of a Notebook to ensure all the following code is located in one place."
   ]
  },
  {
   "cell_type": "code",
   "execution_count": null,
   "id": "a2f34be7",
   "metadata": {},
   "outputs": [],
   "source": [
    "# Enter your lab code here"
   ]
  }
 ],
 "metadata": {
  "kernelspec": {
   "display_name": "Python 3 (ipykernel)",
   "language": "python",
   "name": "python3"
  },
  "language_info": {
   "codemirror_mode": {
    "name": "ipython",
    "version": 3
   },
   "file_extension": ".py",
   "mimetype": "text/x-python",
   "name": "python",
   "nbconvert_exporter": "python",
   "pygments_lexer": "ipython3",
   "version": "3.10.9"
  }
 },
 "nbformat": 4,
 "nbformat_minor": 5
}
