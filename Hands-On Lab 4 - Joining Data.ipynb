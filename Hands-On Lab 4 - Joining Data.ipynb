{
 "cells": [
  {
   "cell_type": "markdown",
   "id": "e2947714",
   "metadata": {},
   "source": [
    "# Hands-On Lab 4 - Joining Data"
   ]
  },
  {
   "cell_type": "markdown",
   "id": "9e0e286f",
   "metadata": {},
   "source": [
    "In this lab you will use the *pandas* library to wrangle the Titanic dataset. The findings of previous labs will be used to guide the the wrangling performed."
   ]
  },
  {
   "cell_type": "markdown",
   "id": "af9ce0f4",
   "metadata": {},
   "source": [
    "### Step 1 - Load *titanic_train* Data"
   ]
  },
  {
   "cell_type": "markdown",
   "id": "7ae27d23",
   "metadata": {},
   "source": [
    "The *titantic_train.csv* file is the training dataset. Run the following code cell to load the dataset."
   ]
  },
  {
   "cell_type": "code",
   "execution_count": null,
   "id": "b785b575",
   "metadata": {},
   "outputs": [],
   "source": [
    "import pandas as pd\n",
    "\n",
    "# Load Titanic training data from CSV file\n",
    "titanic_train = pd.read_csv('titanic_train.csv')\n",
    "titanic_train.head()"
   ]
  },
  {
   "cell_type": "markdown",
   "id": "fae716c0",
   "metadata": {},
   "source": [
    "### Step 2 - Wrangle Data"
   ]
  },
  {
   "cell_type": "markdown",
   "id": "4937c375",
   "metadata": {},
   "source": [
    "You've written quite a bit of code in previous labs to wrangle the *titanic_train* dataset into a form suitable for machine learning. We'll reuse this work. Run the following code cell to wrangle the dataset."
   ]
  },
  {
   "cell_type": "code",
   "execution_count": null,
   "id": "ccc8ab87",
   "metadata": {},
   "outputs": [],
   "source": [
    "# Enter your lab code here"
   ]
  },
  {
   "cell_type": "markdown",
   "id": "febe83a1",
   "metadata": {},
   "source": [
    "### Step 3 - Exploring the *Title* Feature"
   ]
  },
  {
   "cell_type": "markdown",
   "id": "260e6e0a",
   "metadata": {},
   "source": [
    "As you learned in Lab 1, categorical features with high cardinality (i.e., many categorical levels) are not useful for crafting machine learning models. In the last lab, you extracted the *Title* feature from passenger names to use as a proxy for both *Sex* and *Age*. Type the following code into the blank code cell in your lab notebook and run it to produce the results."
   ]
  },
  {
   "cell_type": "code",
   "execution_count": null,
   "id": "c00b42ed",
   "metadata": {},
   "outputs": [],
   "source": [
    "# Enter your lab code here"
   ]
  },
  {
   "cell_type": "markdown",
   "id": "b4f9c44c",
   "metadata": {},
   "source": [
    "### Step 4 - Load *titanic_titles* Data"
   ]
  },
  {
   "cell_type": "markdown",
   "id": "e276712d",
   "metadata": {},
   "source": [
    "The last lab step demonstrates that the *Title* feature has a problem - for certain categorical levels (e.g., *Jonkheer*), there are too few instances in the data. The *titanic_titles* dataset provides a solution for this problem. Type the following code into the blank code cell in your lab notebook and run it to produce the results."
   ]
  },
  {
   "cell_type": "code",
   "execution_count": null,
   "id": "e5eb4ad6",
   "metadata": {},
   "outputs": [],
   "source": [
    "# Enter your lab code here"
   ]
  },
  {
   "cell_type": "markdown",
   "id": "31689234",
   "metadata": {},
   "source": [
    "### Step 5 - Exploring *titanic_titles*"
   ]
  },
  {
   "cell_type": "markdown",
   "id": "a9d8a870",
   "metadata": {},
   "source": [
    "The *titanic_titles* dataset provides a mapping from passenger *Title* to a *GenericTitle*. For example, mapping the Dutch title of *Jonkheer* to *Mr*. The total set of *GenericTitle* values are *Mrs*, *Mr*, *Miss*, and *Master*. Type the following code into the blank code cell in your lab notebook and run it to produce the results."
   ]
  },
  {
   "cell_type": "code",
   "execution_count": null,
   "id": "df39bf47",
   "metadata": {},
   "outputs": [],
   "source": [
    "# Enter your lab code here"
   ]
  },
  {
   "cell_type": "markdown",
   "id": "d34e6856",
   "metadata": {},
   "source": [
    "### Step 6 - Joining Data"
   ]
  },
  {
   "cell_type": "markdown",
   "id": "192ec1c9",
   "metadata": {},
   "source": [
    "We can add the *GenericTitle* feature to *train_wrangled* via a left join. In general, left joins are useful in data wrangling because all rows from the left table are preserved. This allows you to quickly determine any problems (e.g., missing data) that might arise. Type the following code into the blank code cell in your lab notebook and run it to produce the results."
   ]
  },
  {
   "cell_type": "code",
   "execution_count": null,
   "id": "80966d12",
   "metadata": {},
   "outputs": [],
   "source": [
    "# Enter your lab code here"
   ]
  },
  {
   "cell_type": "markdown",
   "id": "729d9599",
   "metadata": {},
   "source": [
    "### Step 7 - Validate Join"
   ]
  },
  {
   "cell_type": "markdown",
   "id": "b2831efe",
   "metadata": {},
   "source": [
    "A great way to validate the results of a join is to group and aggregate the data. Be sure to use *dropna = True* in the call to the *groupby()* method to include any missing data."
   ]
  },
  {
   "cell_type": "code",
   "execution_count": null,
   "id": "927d1ffb",
   "metadata": {},
   "outputs": [],
   "source": [
    "# Enter your lab code here"
   ]
  },
  {
   "cell_type": "markdown",
   "id": "2fd284f7",
   "metadata": {},
   "source": [
    "### Step 8 - Checking for Mismappings"
   ]
  },
  {
   "cell_type": "markdown",
   "id": "bc84bd4b",
   "metadata": {},
   "source": [
    "The *titanic_titles* dataset makes some assumptions based on data analysis and subject matter expertise. For example, very few women in the early 1900s would have the military title of *Col*. Always validate assumptions with data. Type the following code into the blank code cells in your lab notebook and run each to produce the results."
   ]
  },
  {
   "cell_type": "code",
   "execution_count": 1,
   "id": "24b6be13",
   "metadata": {},
   "outputs": [],
   "source": [
    "# Enter your lab code here"
   ]
  },
  {
   "cell_type": "code",
   "execution_count": null,
   "id": "74303a7b",
   "metadata": {},
   "outputs": [],
   "source": [
    "# Enter your lab code here"
   ]
  },
  {
   "cell_type": "markdown",
   "id": "f25d53cb",
   "metadata": {},
   "source": [
    "### Step 9 - Investigate Mismapping"
   ]
  },
  {
   "cell_type": "markdown",
   "id": "43cbe011",
   "metadata": {},
   "source": [
    "The last lab step showed one mismapping of a female passenger to a *GenericTitle*. This mismapped passenger has an index value of 796. We can easily get the original data for this passenger from the *titanic_train* dataset. Type the following code into the blank code cell in your lab notebook and run it to produce the results."
   ]
  },
  {
   "cell_type": "code",
   "execution_count": null,
   "id": "59ec02a2",
   "metadata": {
    "scrolled": true
   },
   "outputs": [],
   "source": [
    "# Enter your lab code here"
   ]
  },
  {
   "cell_type": "markdown",
   "id": "a5bc6f7d",
   "metadata": {},
   "source": [
    "### Step 10 - Data Wrangling Revisited"
   ]
  },
  {
   "cell_type": "markdown",
   "id": "2657c351",
   "metadata": {},
   "source": [
    "The following code updates the data wrangling logic to include a left join to the *titanic_titles* dataset and to fix the mismapped passenger *Generic Title*. Type the following code into the blank code cell in your lab notebook and run it to produce the results."
   ]
  },
  {
   "cell_type": "code",
   "execution_count": null,
   "id": "6f075e24",
   "metadata": {},
   "outputs": [],
   "source": [
    "# Enter your lab code here"
   ]
  },
  {
   "cell_type": "markdown",
   "id": "f0386c33",
   "metadata": {},
   "source": [
    "### Step 11 - Encoding Categorical Features"
   ]
  },
  {
   "cell_type": "markdown",
   "id": "63e6cb5e",
   "metadata": {},
   "source": [
    "The last step is to encode the categorical features (i.e., *Pclass*, *Embarked*, & *GenericTitle*). Type the following code into the blank code cell in your lab notebook and run it to produce the results."
   ]
  },
  {
   "cell_type": "code",
   "execution_count": null,
   "id": "f4fe2355",
   "metadata": {
    "scrolled": true
   },
   "outputs": [],
   "source": [
    "# Enter your lab code here"
   ]
  }
 ],
 "metadata": {
  "kernelspec": {
   "display_name": "Python 3 (ipykernel)",
   "language": "python",
   "name": "python3"
  },
  "language_info": {
   "codemirror_mode": {
    "name": "ipython",
    "version": 3
   },
   "file_extension": ".py",
   "mimetype": "text/x-python",
   "name": "python",
   "nbconvert_exporter": "python",
   "pygments_lexer": "ipython3",
   "version": "3.10.9"
  }
 },
 "nbformat": 4,
 "nbformat_minor": 5
}
