{
 "cells": [
  {
   "cell_type": "markdown",
   "id": "119a79e0",
   "metadata": {},
   "source": [
    "## Verify Installation"
   ]
  },
  {
   "cell_type": "markdown",
   "id": "f8233569",
   "metadata": {},
   "source": [
    "Run the following code cell you should see no errors as a result of the running the code."
   ]
  },
  {
   "cell_type": "code",
   "execution_count": null,
   "id": "d19f7f6d",
   "metadata": {},
   "outputs": [],
   "source": [
    "from ydata_profiling import ProfileReport \n",
    "from plotnine import ggplot"
   ]
  }
 ],
 "metadata": {
  "kernelspec": {
   "display_name": "Python 3 (ipykernel)",
   "language": "python",
   "name": "python3"
  },
  "language_info": {
   "codemirror_mode": {
    "name": "ipython",
    "version": 3
   },
   "file_extension": ".py",
   "mimetype": "text/x-python",
   "name": "python",
   "nbconvert_exporter": "python",
   "pygments_lexer": "ipython3",
   "version": "3.10.9"
  }
 },
 "nbformat": 4,
 "nbformat_minor": 5
}
