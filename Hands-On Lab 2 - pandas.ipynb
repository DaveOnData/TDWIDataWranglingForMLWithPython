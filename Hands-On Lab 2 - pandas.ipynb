{
 "cells": [
  {
   "cell_type": "markdown",
   "id": "5aaf0536",
   "metadata": {},
   "source": [
    "# Hands-On Lab 2 - pandas"
   ]
  },
  {
   "cell_type": "markdown",
   "id": "b78faf84",
   "metadata": {},
   "source": [
    "In this lab you will use the *pandas* library to wrangle the Titanic dataset. The findings of the previous lab will be used to guide the the wrangling performed."
   ]
  },
  {
   "cell_type": "markdown",
   "id": "d4a3476d",
   "metadata": {},
   "source": [
    "### Step 1 - Load Data"
   ]
  },
  {
   "cell_type": "markdown",
   "id": "1353b82a",
   "metadata": {},
   "source": [
    "The *titantic_train.csv* file is the training dataset. Run the following code cell to load the dataset."
   ]
  },
  {
   "cell_type": "code",
   "execution_count": null,
   "id": "6472d880",
   "metadata": {},
   "outputs": [],
   "source": [
    "import pandas as pd\n",
    "\n",
    "# Load Titanic training data from CSV file\n",
    "titanic_train = pd.read_csv('titanic_train.csv')\n",
    "titanic_train.head()"
   ]
  },
  {
   "cell_type": "markdown",
   "id": "ee61486f",
   "metadata": {},
   "source": [
    "### Step 2 - Wrangle the *Female* feature"
   ]
  },
  {
   "cell_type": "markdown",
   "id": "4c67860b",
   "metadata": {},
   "source": [
    "As you learned during the lecture, the *scikit-learn* machine learning library only supports numeric features. In its raw form, the *Sex* feature is a binary categorical feature with string values. While this feature could be one-hot encoded, the encoding would produce two features (i.e., *Sex_male* & *Sex_female*). A better strategy is to create a new binary numeric feature indicating whether a passenger is female. Type the following code into the blank code cell in your lab notebook and run it to produce the results.\n",
    "\n",
    "**NOTE** - You will iteratively build up the data-wrangling code using a single call to the *assign()* method. Each code cell in the lab will add additional wrangling so you can see the progress step-by-step."
   ]
  },
  {
   "cell_type": "code",
   "execution_count": null,
   "id": "ae8fea44",
   "metadata": {},
   "outputs": [],
   "source": [
    "# Enter your lab code here"
   ]
  },
  {
   "cell_type": "markdown",
   "id": "7f89fa07",
   "metadata": {},
   "source": [
    "### Step 3 - Wrangle the *Embarked* Feature"
   ]
  },
  {
   "cell_type": "markdown",
   "id": "82ac7e2f",
   "metadata": {},
   "source": [
    "As you learned in the last lab, the *Embarked* feature has two missing values. A common strategy with categorical features to replace missing data is to **impute** (i.e., replace) the missing data using the most commonly occurring categorical value (i.e., the **mode**). Type the following code into the blank code cell in your lab notebook and run it to produce the results.\n",
    "\n",
    "**NOTE** - Be sure to copy and paste the code from the previous cell and extend the code within the *assign()* method call."
   ]
  },
  {
   "cell_type": "code",
   "execution_count": null,
   "id": "f8a86b99",
   "metadata": {},
   "outputs": [],
   "source": [
    "# Enter your lab code here"
   ]
  },
  {
   "cell_type": "markdown",
   "id": "654c4be4",
   "metadata": {},
   "source": [
    "### Step 4 - Wrangle the *PartySize* Feature"
   ]
  },
  {
   "cell_type": "markdown",
   "id": "b0937c9a",
   "metadata": {},
   "source": [
    "It is common to craft new features based on domain knowledge. Experimenting with features is the hallmark of crafting the most valuable machine learning models. Most of the features you engineer will not be useful. Despite the expected high failure rate, experimenting with features is where you can add the most value as a data scientist. For example, you can engineer a *PartySize* feature that provides the count of all the passengers traveling together on the Titanic. Type the following code into the blank code cell in your lab notebook and run it to produce the results.\n",
    "\n",
    "**NOTE** - Be sure to copy and paste the code from the previous cell and extend the code within the *assign()* method call."
   ]
  },
  {
   "cell_type": "code",
   "execution_count": null,
   "id": "816cdf7f",
   "metadata": {},
   "outputs": [],
   "source": [
    "# Enter your lab code here"
   ]
  },
  {
   "cell_type": "markdown",
   "id": "13f37b77",
   "metadata": {},
   "source": [
    "### Step 5 - Exploring the *Ticket* Feature"
   ]
  },
  {
   "cell_type": "markdown",
   "id": "2bc23364",
   "metadata": {},
   "source": [
    "The last lab illustrated that the values of the *Ticket* feature are not unique. This lack of uniqueness implies that the same *Ticket* \"numbers\" are shared by multiple passengers. You can start to confirm this by aggregating the *Ticket* feature. Type the following code into the blank code cell in your lab notebook and run it to produce the results."
   ]
  },
  {
   "cell_type": "code",
   "execution_count": null,
   "id": "c556270b",
   "metadata": {},
   "outputs": [],
   "source": [
    "# Enter your lab code here"
   ]
  },
  {
   "cell_type": "markdown",
   "id": "60e1941e",
   "metadata": {},
   "source": [
    "### Step 6 - Exploring the *Ticket* Feature Continued"
   ]
  },
  {
   "cell_type": "markdown",
   "id": "d4945e61",
   "metadata": {},
   "source": [
    "The last step illustrates that a single *Ticket* value is shared among multiple passengers. A closer look at the first couple of *Ticket* values is a good idea. Type the following code into the blank code cell in your lab notebook and run it to produce the results."
   ]
  },
  {
   "cell_type": "code",
   "execution_count": null,
   "id": "4d298348",
   "metadata": {},
   "outputs": [],
   "source": [
    "# Enter your lab code here"
   ]
  },
  {
   "cell_type": "markdown",
   "id": "8b2c0c14",
   "metadata": {},
   "source": [
    "### Step 7 - Wrangling the *PartyFare* Feature"
   ]
  },
  {
   "cell_type": "markdown",
   "id": "6db4a497",
   "metadata": {},
   "source": [
    "The last step shows that *Ticket* \"numbers\" can be shared across groups of passengers. The last step also showed that the *Fare* paid for the ticket includes all passengers. This information can be used to engineer a new *PartyFare* feature that distributes the *Fare* across all the passengers traveling together. Type the following code into the blank code cell in your lab notebook and run it to produce the results.\n",
    "\n",
    "**NOTE** - Be sure to copy and paste the code from Step 4 and extend the code within the *assign()* method call."
   ]
  },
  {
   "cell_type": "code",
   "execution_count": null,
   "id": "c188159b",
   "metadata": {},
   "outputs": [],
   "source": [
    "# Enter your lab code here"
   ]
  },
  {
   "cell_type": "markdown",
   "id": "0c6daf88",
   "metadata": {},
   "source": [
    "### Step 8 - Wrangling the *TicketSize* Feature"
   ]
  },
  {
   "cell_type": "markdown",
   "id": "7a37e5db",
   "metadata": {},
   "source": [
    "Based on the knowledge gleaned from Step 5, you can also engineer a *TicketSize* feature for the count of passengers sharing the same *Ticket* \"number.\" Type the following code into the blank code cell in your lab notebook and run it to produce the results."
   ]
  },
  {
   "cell_type": "code",
   "execution_count": null,
   "id": "035ec257",
   "metadata": {},
   "outputs": [],
   "source": [
    "# Enter your lab code here"
   ]
  },
  {
   "cell_type": "markdown",
   "id": "fdade442",
   "metadata": {},
   "source": [
    "### Step 9 - Dropping Features"
   ]
  },
  {
   "cell_type": "markdown",
   "id": "f698ce0c",
   "metadata": {},
   "source": [
    "Your EDA from Lab 1 showed that many features are not useful at all (e.g., *PassengerId*) or require additional feature engineering (e.g., *Name*). At this stage of the course, dropping these features is reasonable. Type the following code into the blank code cell in your lab notebook and run it to produce the results. "
   ]
  },
  {
   "cell_type": "code",
   "execution_count": null,
   "id": "01b9ff88",
   "metadata": {},
   "outputs": [],
   "source": [
    "# Enter your lab code here"
   ]
  },
  {
   "cell_type": "markdown",
   "id": "aabad4d8",
   "metadata": {},
   "source": [
    "### Step 10 - Encoding Categorical Features"
   ]
  },
  {
   "cell_type": "markdown",
   "id": "f9b9290c",
   "metadata": {},
   "source": [
    "With the initial set of features complete, the last step is to one-hot encode the categorical features that are not binary (i.e., *Pclass* and *Embarked*). Type the following code into the blank code cell in your lab notebook and run it to produce the results.\n",
    "\n",
    "**NOTE** - The following cell contains all the code needed to perform all the data wrangling for the lab. A best practice would be to include a cell near the top of a Notebook to ensure all the following code is located in one place."
   ]
  },
  {
   "cell_type": "code",
   "execution_count": null,
   "id": "ccf494b5",
   "metadata": {
    "scrolled": false
   },
   "outputs": [],
   "source": [
    "# Enter your lab code here"
   ]
  }
 ],
 "metadata": {
  "kernelspec": {
   "display_name": "Python 3 (ipykernel)",
   "language": "python",
   "name": "python3"
  },
  "language_info": {
   "codemirror_mode": {
    "name": "ipython",
    "version": 3
   },
   "file_extension": ".py",
   "mimetype": "text/x-python",
   "name": "python",
   "nbconvert_exporter": "python",
   "pygments_lexer": "ipython3",
   "version": "3.10.9"
  }
 },
 "nbformat": 4,
 "nbformat_minor": 5
}
