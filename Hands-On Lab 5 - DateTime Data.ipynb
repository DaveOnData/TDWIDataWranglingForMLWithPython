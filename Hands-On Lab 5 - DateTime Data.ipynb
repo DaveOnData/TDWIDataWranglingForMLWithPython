{
 "cells": [
  {
   "cell_type": "markdown",
   "id": "e2947714",
   "metadata": {},
   "source": [
    "# Hands-On Lab 5 - DateTime Data"
   ]
  },
  {
   "cell_type": "markdown",
   "id": "9e0e286f",
   "metadata": {},
   "source": [
    "In this lab, you will use the *pandas* library to wrangle the date-time data of the *customer_orders* dataset."
   ]
  },
  {
   "cell_type": "markdown",
   "id": "af9ce0f4",
   "metadata": {},
   "source": [
    "### Step 1 - Load *customer_orders* Data"
   ]
  },
  {
   "cell_type": "markdown",
   "id": "7ae27d23",
   "metadata": {},
   "source": [
    "Run the following code to load the *customer_orders* dataset. The code below uses the *read_csv()* function's *parse_dates* parameter to convert the string date representations into Python *datetime64* objects."
   ]
  },
  {
   "cell_type": "code",
   "execution_count": null,
   "id": "b785b575",
   "metadata": {},
   "outputs": [],
   "source": [
    "import pandas as pd\n",
    "\n",
    "# Load Customer Orders data from CSV file and parse the dates\n",
    "customer_orders = pd.read_csv('customer_orders.csv', parse_dates = ['DateFirstPurchase', 'OrderDate'])\n",
    "\n",
    "customer_orders.head(n = 10)"
   ]
  },
  {
   "cell_type": "markdown",
   "id": "fae716c0",
   "metadata": {},
   "source": [
    "### Step 2 - Extract Date-Time Features"
   ]
  },
  {
   "cell_type": "markdown",
   "id": "4937c375",
   "metadata": {},
   "source": [
    "As discussed in lecture, the first step in working with date-time data for machine learning is to extract the \"pieces\" of complete date-time objects. Type the following code into the blank code cell in your lab notebook and run it to produce the results."
   ]
  },
  {
   "cell_type": "code",
   "execution_count": null,
   "id": "ccc8ab87",
   "metadata": {},
   "outputs": [],
   "source": [
    "# Enter your lab code here"
   ]
  },
  {
   "cell_type": "markdown",
   "id": "febe83a1",
   "metadata": {},
   "source": [
    "### Step 3 - Crafting Behavioral Features"
   ]
  },
  {
   "cell_type": "markdown",
   "id": "260e6e0a",
   "metadata": {},
   "source": [
    "While the features of Step 2 can certainly be useful in machine learning models, the real power of date-time features comes from applying your knowledge of the business process(es) to craft behavioral features over time. Type the following code into the blank code cell in your lab notebook and run it to produce the results."
   ]
  },
  {
   "cell_type": "code",
   "execution_count": null,
   "id": "c00b42ed",
   "metadata": {},
   "outputs": [],
   "source": [
    "# Enter your lab code here"
   ]
  },
  {
   "cell_type": "markdown",
   "id": "b4f9c44c",
   "metadata": {},
   "source": [
    "### Step 4 - Examining the Features"
   ]
  },
  {
   "cell_type": "markdown",
   "id": "e276712d",
   "metadata": {},
   "source": [
    "The mighty query() method provides you the ability to subset the customer behavioral data for further exploration. For example, using the mighty *plotnine* library for visual analysis. Type the following code into the blank code cell in your lab notebook and run it to produce the results."
   ]
  },
  {
   "cell_type": "code",
   "execution_count": null,
   "id": "e5eb4ad6",
   "metadata": {},
   "outputs": [],
   "source": [
    "# Enter your lab code here"
   ]
  }
 ],
 "metadata": {
  "kernelspec": {
   "display_name": "Python 3 (ipykernel)",
   "language": "python",
   "name": "python3"
  },
  "language_info": {
   "codemirror_mode": {
    "name": "ipython",
    "version": 3
   },
   "file_extension": ".py",
   "mimetype": "text/x-python",
   "name": "python",
   "nbconvert_exporter": "python",
   "pygments_lexer": "ipython3",
   "version": "3.11.7"
  }
 },
 "nbformat": 4,
 "nbformat_minor": 5
}
